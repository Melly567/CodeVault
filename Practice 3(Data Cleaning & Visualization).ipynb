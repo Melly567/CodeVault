{
 "cells": [
  {
   "cell_type": "code",
   "execution_count": 5,
   "id": "bfa2027f",
   "metadata": {},
   "outputs": [],
   "source": [
    "import pandas as pd "
   ]
  },
  {
   "cell_type": "code",
   "execution_count": 6,
   "id": "023172a7",
   "metadata": {},
   "outputs": [],
   "source": [
    "data=pd.read_csv('tips.csv')"
   ]
  },
  {
   "cell_type": "code",
   "execution_count": 7,
   "id": "9ff9d8e9",
   "metadata": {},
   "outputs": [
    {
     "data": {
      "text/html": [
       "<div>\n",
       "<style scoped>\n",
       "    .dataframe tbody tr th:only-of-type {\n",
       "        vertical-align: middle;\n",
       "    }\n",
       "\n",
       "    .dataframe tbody tr th {\n",
       "        vertical-align: top;\n",
       "    }\n",
       "\n",
       "    .dataframe thead th {\n",
       "        text-align: right;\n",
       "    }\n",
       "</style>\n",
       "<table border=\"1\" class=\"dataframe\">\n",
       "  <thead>\n",
       "    <tr style=\"text-align: right;\">\n",
       "      <th></th>\n",
       "      <th>total_bill</th>\n",
       "      <th>tip</th>\n",
       "      <th>gender</th>\n",
       "      <th>smoker</th>\n",
       "      <th>day</th>\n",
       "      <th>time</th>\n",
       "      <th>size</th>\n",
       "    </tr>\n",
       "  </thead>\n",
       "  <tbody>\n",
       "    <tr>\n",
       "      <th>0</th>\n",
       "      <td>2125.50</td>\n",
       "      <td>360.79</td>\n",
       "      <td>Male</td>\n",
       "      <td>No</td>\n",
       "      <td>Thur</td>\n",
       "      <td>Lunch</td>\n",
       "      <td>1</td>\n",
       "    </tr>\n",
       "    <tr>\n",
       "      <th>1</th>\n",
       "      <td>2727.18</td>\n",
       "      <td>259.42</td>\n",
       "      <td>Female</td>\n",
       "      <td>No</td>\n",
       "      <td>Sun</td>\n",
       "      <td>Dinner</td>\n",
       "      <td>5</td>\n",
       "    </tr>\n",
       "    <tr>\n",
       "      <th>2</th>\n",
       "      <td>1066.02</td>\n",
       "      <td>274.68</td>\n",
       "      <td>Female</td>\n",
       "      <td>Yes</td>\n",
       "      <td>Thur</td>\n",
       "      <td>Dinner</td>\n",
       "      <td>4</td>\n",
       "    </tr>\n",
       "    <tr>\n",
       "      <th>3</th>\n",
       "      <td>3493.45</td>\n",
       "      <td>337.90</td>\n",
       "      <td>Female</td>\n",
       "      <td>No</td>\n",
       "      <td>Sun</td>\n",
       "      <td>Dinner</td>\n",
       "      <td>1</td>\n",
       "    </tr>\n",
       "    <tr>\n",
       "      <th>4</th>\n",
       "      <td>3470.56</td>\n",
       "      <td>567.89</td>\n",
       "      <td>Male</td>\n",
       "      <td>Yes</td>\n",
       "      <td>Sun</td>\n",
       "      <td>Lunch</td>\n",
       "      <td>6</td>\n",
       "    </tr>\n",
       "    <tr>\n",
       "      <th>...</th>\n",
       "      <td>...</td>\n",
       "      <td>...</td>\n",
       "      <td>...</td>\n",
       "      <td>...</td>\n",
       "      <td>...</td>\n",
       "      <td>...</td>\n",
       "      <td>...</td>\n",
       "    </tr>\n",
       "    <tr>\n",
       "      <th>739</th>\n",
       "      <td>3164.27</td>\n",
       "      <td>645.28</td>\n",
       "      <td>Male</td>\n",
       "      <td>No</td>\n",
       "      <td>Sat</td>\n",
       "      <td>Dinner</td>\n",
       "      <td>3</td>\n",
       "    </tr>\n",
       "    <tr>\n",
       "      <th>740</th>\n",
       "      <td>2962.62</td>\n",
       "      <td>218.00</td>\n",
       "      <td>Female</td>\n",
       "      <td>Yes</td>\n",
       "      <td>Sat</td>\n",
       "      <td>Dinner</td>\n",
       "      <td>2</td>\n",
       "    </tr>\n",
       "    <tr>\n",
       "      <th>741</th>\n",
       "      <td>2471.03</td>\n",
       "      <td>218.00</td>\n",
       "      <td>Male</td>\n",
       "      <td>Yes</td>\n",
       "      <td>Sat</td>\n",
       "      <td>Dinner</td>\n",
       "      <td>2</td>\n",
       "    </tr>\n",
       "    <tr>\n",
       "      <th>742</th>\n",
       "      <td>1942.38</td>\n",
       "      <td>190.75</td>\n",
       "      <td>Male</td>\n",
       "      <td>No</td>\n",
       "      <td>Sat</td>\n",
       "      <td>Dinner</td>\n",
       "      <td>2</td>\n",
       "    </tr>\n",
       "    <tr>\n",
       "      <th>743</th>\n",
       "      <td>2047.02</td>\n",
       "      <td>327.00</td>\n",
       "      <td>Female</td>\n",
       "      <td>No</td>\n",
       "      <td>Thur</td>\n",
       "      <td>Dinner</td>\n",
       "      <td>2</td>\n",
       "    </tr>\n",
       "  </tbody>\n",
       "</table>\n",
       "<p>744 rows × 7 columns</p>\n",
       "</div>"
      ],
      "text/plain": [
       "     total_bill     tip  gender smoker   day    time  size\n",
       "0       2125.50  360.79    Male     No  Thur   Lunch     1\n",
       "1       2727.18  259.42  Female     No   Sun  Dinner     5\n",
       "2       1066.02  274.68  Female    Yes  Thur  Dinner     4\n",
       "3       3493.45  337.90  Female     No   Sun  Dinner     1\n",
       "4       3470.56  567.89    Male    Yes   Sun   Lunch     6\n",
       "..          ...     ...     ...    ...   ...     ...   ...\n",
       "739     3164.27  645.28    Male     No   Sat  Dinner     3\n",
       "740     2962.62  218.00  Female    Yes   Sat  Dinner     2\n",
       "741     2471.03  218.00    Male    Yes   Sat  Dinner     2\n",
       "742     1942.38  190.75    Male     No   Sat  Dinner     2\n",
       "743     2047.02  327.00  Female     No  Thur  Dinner     2\n",
       "\n",
       "[744 rows x 7 columns]"
      ]
     },
     "execution_count": 7,
     "metadata": {},
     "output_type": "execute_result"
    }
   ],
   "source": [
    "data"
   ]
  },
  {
   "cell_type": "code",
   "execution_count": 8,
   "id": "4fe84768",
   "metadata": {},
   "outputs": [
    {
     "data": {
      "text/plain": [
       "<bound method NDFrame.describe of      total_bill     tip  gender smoker   day    time  size\n",
       "0       2125.50  360.79    Male     No  Thur   Lunch     1\n",
       "1       2727.18  259.42  Female     No   Sun  Dinner     5\n",
       "2       1066.02  274.68  Female    Yes  Thur  Dinner     4\n",
       "3       3493.45  337.90  Female     No   Sun  Dinner     1\n",
       "4       3470.56  567.89    Male    Yes   Sun   Lunch     6\n",
       "..          ...     ...     ...    ...   ...     ...   ...\n",
       "739     3164.27  645.28    Male     No   Sat  Dinner     3\n",
       "740     2962.62  218.00  Female    Yes   Sat  Dinner     2\n",
       "741     2471.03  218.00    Male    Yes   Sat  Dinner     2\n",
       "742     1942.38  190.75    Male     No   Sat  Dinner     2\n",
       "743     2047.02  327.00  Female     No  Thur  Dinner     2\n",
       "\n",
       "[744 rows x 7 columns]>"
      ]
     },
     "execution_count": 8,
     "metadata": {},
     "output_type": "execute_result"
    }
   ],
   "source": [
    "data.describe "
   ]
  },
  {
   "cell_type": "code",
   "execution_count": 9,
   "id": "e55034f3",
   "metadata": {},
   "outputs": [
    {
     "data": {
      "text/plain": [
       "total_bill    0\n",
       "tip           0\n",
       "gender        0\n",
       "smoker        0\n",
       "day           0\n",
       "time          0\n",
       "size          0\n",
       "dtype: int64"
      ]
     },
     "execution_count": 9,
     "metadata": {},
     "output_type": "execute_result"
    }
   ],
   "source": [
    "data.isnull().sum()"
   ]
  },
  {
   "cell_type": "code",
   "execution_count": 10,
   "id": "46116ae1",
   "metadata": {},
   "outputs": [
    {
     "data": {
      "text/plain": [
       "(744, 7)"
      ]
     },
     "execution_count": 10,
     "metadata": {},
     "output_type": "execute_result"
    }
   ],
   "source": [
    "data.shape"
   ]
  },
  {
   "cell_type": "code",
   "execution_count": 11,
   "id": "2ebbe584",
   "metadata": {},
   "outputs": [
    {
     "data": {
      "text/plain": [
       "Index(['total_bill', 'tip', 'gender', 'smoker', 'day', 'time', 'size'], dtype='object')"
      ]
     },
     "execution_count": 11,
     "metadata": {},
     "output_type": "execute_result"
    }
   ],
   "source": [
    "data.columns"
   ]
  },
  {
   "cell_type": "code",
   "execution_count": 12,
   "id": "be28317f",
   "metadata": {},
   "outputs": [
    {
     "name": "stdout",
     "output_type": "stream",
     "text": [
      "<class 'pandas.core.frame.DataFrame'>\n",
      "RangeIndex: 744 entries, 0 to 743\n",
      "Data columns (total 7 columns):\n",
      " #   Column      Non-Null Count  Dtype  \n",
      "---  ------      --------------  -----  \n",
      " 0   total_bill  744 non-null    float64\n",
      " 1   tip         744 non-null    float64\n",
      " 2   gender      744 non-null    object \n",
      " 3   smoker      744 non-null    object \n",
      " 4   day         744 non-null    object \n",
      " 5   time        744 non-null    object \n",
      " 6   size        744 non-null    int64  \n",
      "dtypes: float64(2), int64(1), object(4)\n",
      "memory usage: 40.8+ KB\n"
     ]
    }
   ],
   "source": [
    "data.info()"
   ]
  },
  {
   "cell_type": "code",
   "execution_count": 13,
   "id": "4f40c4d4",
   "metadata": {},
   "outputs": [],
   "source": [
    "male=len(data[data['gender']=='Male'])"
   ]
  },
  {
   "cell_type": "code",
   "execution_count": 14,
   "id": "dc2c1ce4",
   "metadata": {},
   "outputs": [
    {
     "data": {
      "text/plain": [
       "409"
      ]
     },
     "execution_count": 14,
     "metadata": {},
     "output_type": "execute_result"
    }
   ],
   "source": [
    "male"
   ]
  },
  {
   "cell_type": "code",
   "execution_count": 15,
   "id": "ca896459",
   "metadata": {},
   "outputs": [],
   "source": [
    "female=len(data[data['gender']=='Female'])"
   ]
  },
  {
   "cell_type": "code",
   "execution_count": 16,
   "id": "b052275a",
   "metadata": {},
   "outputs": [
    {
     "data": {
      "text/plain": [
       "335"
      ]
     },
     "execution_count": 16,
     "metadata": {},
     "output_type": "execute_result"
    }
   ],
   "source": [
    "female"
   ]
  },
  {
   "cell_type": "code",
   "execution_count": 17,
   "id": "e72acc67",
   "metadata": {},
   "outputs": [],
   "source": [
    "yes=len(data[data['smoker']=='Yes'])"
   ]
  },
  {
   "cell_type": "code",
   "execution_count": 18,
   "id": "7422df3a",
   "metadata": {},
   "outputs": [
    {
     "data": {
      "text/plain": [
       "346"
      ]
     },
     "execution_count": 18,
     "metadata": {},
     "output_type": "execute_result"
    }
   ],
   "source": [
    "yes"
   ]
  },
  {
   "cell_type": "code",
   "execution_count": 19,
   "id": "df08fbdf",
   "metadata": {},
   "outputs": [],
   "source": [
    "no=len(data[data['smoker']=='No'])"
   ]
  },
  {
   "cell_type": "code",
   "execution_count": 20,
   "id": "884f7ec1",
   "metadata": {},
   "outputs": [
    {
     "data": {
      "text/plain": [
       "398"
      ]
     },
     "execution_count": 20,
     "metadata": {},
     "output_type": "execute_result"
    }
   ],
   "source": [
    "no"
   ]
  },
  {
   "cell_type": "code",
   "execution_count": 21,
   "id": "c82505f1",
   "metadata": {},
   "outputs": [],
   "source": [
    "monday=len(data[data['day']=='Mon'])"
   ]
  },
  {
   "cell_type": "code",
   "execution_count": 22,
   "id": "dc32e4f2",
   "metadata": {},
   "outputs": [
    {
     "data": {
      "text/plain": [
       "75"
      ]
     },
     "execution_count": 22,
     "metadata": {},
     "output_type": "execute_result"
    }
   ],
   "source": [
    "monday"
   ]
  },
  {
   "cell_type": "code",
   "execution_count": 23,
   "id": "ff9b264c",
   "metadata": {},
   "outputs": [],
   "source": [
    "tuesday=len(data[data['day']=='Tues'])"
   ]
  },
  {
   "cell_type": "code",
   "execution_count": 24,
   "id": "bb3e39a7",
   "metadata": {},
   "outputs": [
    {
     "data": {
      "text/plain": [
       "78"
      ]
     },
     "execution_count": 24,
     "metadata": {},
     "output_type": "execute_result"
    }
   ],
   "source": [
    "tuesday"
   ]
  },
  {
   "cell_type": "code",
   "execution_count": 25,
   "id": "46700160",
   "metadata": {},
   "outputs": [],
   "source": [
    "wednesday=len(data[data['day']=='Wed'])"
   ]
  },
  {
   "cell_type": "code",
   "execution_count": 26,
   "id": "3350e9e2",
   "metadata": {},
   "outputs": [
    {
     "data": {
      "text/plain": [
       "73"
      ]
     },
     "execution_count": 26,
     "metadata": {},
     "output_type": "execute_result"
    }
   ],
   "source": [
    "wednesday"
   ]
  },
  {
   "cell_type": "code",
   "execution_count": 27,
   "id": "890e6e7a",
   "metadata": {},
   "outputs": [],
   "source": [
    "thursday=len(data[data['day']=='Thur'])"
   ]
  },
  {
   "cell_type": "code",
   "execution_count": 28,
   "id": "e9b1b9b3",
   "metadata": {},
   "outputs": [
    {
     "data": {
      "text/plain": [
       "134"
      ]
     },
     "execution_count": 28,
     "metadata": {},
     "output_type": "execute_result"
    }
   ],
   "source": [
    "thursday "
   ]
  },
  {
   "cell_type": "code",
   "execution_count": 29,
   "id": "fac470b4",
   "metadata": {},
   "outputs": [],
   "source": [
    "Friday=len(data[data['day']=='Fri'])"
   ]
  },
  {
   "cell_type": "code",
   "execution_count": 30,
   "id": "10e4c0c2",
   "metadata": {},
   "outputs": [
    {
     "data": {
      "text/plain": [
       "79"
      ]
     },
     "execution_count": 30,
     "metadata": {},
     "output_type": "execute_result"
    }
   ],
   "source": [
    "Friday"
   ]
  },
  {
   "cell_type": "code",
   "execution_count": 31,
   "id": "9234d052",
   "metadata": {},
   "outputs": [],
   "source": [
    "Lunch=len(data[data['time']=='Lunch'])"
   ]
  },
  {
   "cell_type": "code",
   "execution_count": 32,
   "id": "ab3cfcbe",
   "metadata": {},
   "outputs": [
    {
     "data": {
      "text/plain": [
       "317"
      ]
     },
     "execution_count": 32,
     "metadata": {},
     "output_type": "execute_result"
    }
   ],
   "source": [
    "Lunch"
   ]
  },
  {
   "cell_type": "code",
   "execution_count": 33,
   "id": "2ded615a",
   "metadata": {},
   "outputs": [],
   "source": [
    "Dinner=len(data[data['time']=='Dinner'])"
   ]
  },
  {
   "cell_type": "code",
   "execution_count": 34,
   "id": "4e304843",
   "metadata": {},
   "outputs": [
    {
     "data": {
      "text/plain": [
       "427"
      ]
     },
     "execution_count": 34,
     "metadata": {},
     "output_type": "execute_result"
    }
   ],
   "source": [
    "Dinner"
   ]
  },
  {
   "cell_type": "markdown",
   "id": "6a335513",
   "metadata": {},
   "source": [
    "# Data Visualization"
   ]
  },
  {
   "cell_type": "code",
   "execution_count": 35,
   "id": "3ba2e3fb",
   "metadata": {},
   "outputs": [],
   "source": [
    "import matplotlib.pyplot as plt"
   ]
  },
  {
   "cell_type": "code",
   "execution_count": 36,
   "id": "1628a2df",
   "metadata": {},
   "outputs": [
    {
     "data": {
      "image/png": "[encoded data removed]",
      "text/plain": [
       "<Figure size 640x480 with 1 Axes>"
      ]
     },
     "metadata": {},
     "output_type": "display_data"
    }
   ],
   "source": [
    "data.groupby(['gender'])['gender'].count().plot(kind=\"bar\")\n",
    "plt.show()"
   ]
  },
  {
   "cell_type": "code",
   "execution_count": 37,
   "id": "6e5d3f22",
   "metadata": {},
   "outputs": [
    {
     "data": {
      "text/plain": [
       "<function matplotlib.pyplot.show(close=None, block=None)>"
      ]
     },
     "execution_count": 37,
     "metadata": {},
     "output_type": "execute_result"
    },
    {
     "data": {
      "image/png": "[encoded data removed]",
      "text/plain": [
       "<Figure size 640x480 with 1 Axes>"
      ]
     },
     "metadata": {},
     "output_type": "display_data"
    }
   ],
   "source": [
    "data.groupby(['gender'])['gender'].count().plot(kind=\"pie\")\n",
    "plt.show"
   ]
  },
  {
   "cell_type": "markdown",
   "id": "fbbf814a",
   "metadata": {},
   "source": [
    "# seperating numerical datatypes from object "
   ]
  },
  {
   "cell_type": "code",
   "execution_count": 40,
   "id": "47eb6b3b",
   "metadata": {},
   "outputs": [],
   "source": [
    "import numpy as np"
   ]
  },
  {
   "cell_type": "code",
   "execution_count": 41,
   "id": "ee943d88",
   "metadata": {},
   "outputs": [
    {
     "data": {
      "text/html": [
       "<div>\n",
       "<style scoped>\n",
       "    .dataframe tbody tr th:only-of-type {\n",
       "        vertical-align: middle;\n",
       "    }\n",
       "\n",
       "    .dataframe tbody tr th {\n",
       "        vertical-align: top;\n",
       "    }\n",
       "\n",
       "    .dataframe thead th {\n",
       "        text-align: right;\n",
       "    }\n",
       "</style>\n",
       "<table border=\"1\" class=\"dataframe\">\n",
       "  <thead>\n",
       "    <tr style=\"text-align: right;\">\n",
       "      <th></th>\n",
       "      <th>total_bill</th>\n",
       "      <th>tip</th>\n",
       "      <th>size</th>\n",
       "    </tr>\n",
       "  </thead>\n",
       "  <tbody>\n",
       "    <tr>\n",
       "      <th>0</th>\n",
       "      <td>2125.50</td>\n",
       "      <td>360.79</td>\n",
       "      <td>1</td>\n",
       "    </tr>\n",
       "    <tr>\n",
       "      <th>1</th>\n",
       "      <td>2727.18</td>\n",
       "      <td>259.42</td>\n",
       "      <td>5</td>\n",
       "    </tr>\n",
       "    <tr>\n",
       "      <th>2</th>\n",
       "      <td>1066.02</td>\n",
       "      <td>274.68</td>\n",
       "      <td>4</td>\n",
       "    </tr>\n",
       "    <tr>\n",
       "      <th>3</th>\n",
       "      <td>3493.45</td>\n",
       "      <td>337.90</td>\n",
       "      <td>1</td>\n",
       "    </tr>\n",
       "    <tr>\n",
       "      <th>4</th>\n",
       "      <td>3470.56</td>\n",
       "      <td>567.89</td>\n",
       "      <td>6</td>\n",
       "    </tr>\n",
       "    <tr>\n",
       "      <th>...</th>\n",
       "      <td>...</td>\n",
       "      <td>...</td>\n",
       "      <td>...</td>\n",
       "    </tr>\n",
       "    <tr>\n",
       "      <th>739</th>\n",
       "      <td>3164.27</td>\n",
       "      <td>645.28</td>\n",
       "      <td>3</td>\n",
       "    </tr>\n",
       "    <tr>\n",
       "      <th>740</th>\n",
       "      <td>2962.62</td>\n",
       "      <td>218.00</td>\n",
       "      <td>2</td>\n",
       "    </tr>\n",
       "    <tr>\n",
       "      <th>741</th>\n",
       "      <td>2471.03</td>\n",
       "      <td>218.00</td>\n",
       "      <td>2</td>\n",
       "    </tr>\n",
       "    <tr>\n",
       "      <th>742</th>\n",
       "      <td>1942.38</td>\n",
       "      <td>190.75</td>\n",
       "      <td>2</td>\n",
       "    </tr>\n",
       "    <tr>\n",
       "      <th>743</th>\n",
       "      <td>2047.02</td>\n",
       "      <td>327.00</td>\n",
       "      <td>2</td>\n",
       "    </tr>\n",
       "  </tbody>\n",
       "</table>\n",
       "<p>744 rows × 3 columns</p>\n",
       "</div>"
      ],
      "text/plain": [
       "     total_bill     tip  size\n",
       "0       2125.50  360.79     1\n",
       "1       2727.18  259.42     5\n",
       "2       1066.02  274.68     4\n",
       "3       3493.45  337.90     1\n",
       "4       3470.56  567.89     6\n",
       "..          ...     ...   ...\n",
       "739     3164.27  645.28     3\n",
       "740     2962.62  218.00     2\n",
       "741     2471.03  218.00     2\n",
       "742     1942.38  190.75     2\n",
       "743     2047.02  327.00     2\n",
       "\n",
       "[744 rows x 3 columns]"
      ]
     },
     "execution_count": 41,
     "metadata": {},
     "output_type": "execute_result"
    }
   ],
   "source": [
    "numeric=data.select_dtypes(np.number)\n",
    "numeric"
   ]
  },
  {
   "cell_type": "code",
   "execution_count": 42,
   "id": "cc8a80b8",
   "metadata": {},
   "outputs": [
    {
     "data": {
      "text/html": [
       "<div>\n",
       "<style scoped>\n",
       "    .dataframe tbody tr th:only-of-type {\n",
       "        vertical-align: middle;\n",
       "    }\n",
       "\n",
       "    .dataframe tbody tr th {\n",
       "        vertical-align: top;\n",
       "    }\n",
       "\n",
       "    .dataframe thead th {\n",
       "        text-align: right;\n",
       "    }\n",
       "</style>\n",
       "<table border=\"1\" class=\"dataframe\">\n",
       "  <thead>\n",
       "    <tr style=\"text-align: right;\">\n",
       "      <th></th>\n",
       "      <th>gender</th>\n",
       "      <th>smoker</th>\n",
       "      <th>day</th>\n",
       "      <th>time</th>\n",
       "    </tr>\n",
       "  </thead>\n",
       "  <tbody>\n",
       "    <tr>\n",
       "      <th>0</th>\n",
       "      <td>Male</td>\n",
       "      <td>No</td>\n",
       "      <td>Thur</td>\n",
       "      <td>Lunch</td>\n",
       "    </tr>\n",
       "    <tr>\n",
       "      <th>1</th>\n",
       "      <td>Female</td>\n",
       "      <td>No</td>\n",
       "      <td>Sun</td>\n",
       "      <td>Dinner</td>\n",
       "    </tr>\n",
       "    <tr>\n",
       "      <th>2</th>\n",
       "      <td>Female</td>\n",
       "      <td>Yes</td>\n",
       "      <td>Thur</td>\n",
       "      <td>Dinner</td>\n",
       "    </tr>\n",
       "    <tr>\n",
       "      <th>3</th>\n",
       "      <td>Female</td>\n",
       "      <td>No</td>\n",
       "      <td>Sun</td>\n",
       "      <td>Dinner</td>\n",
       "    </tr>\n",
       "    <tr>\n",
       "      <th>4</th>\n",
       "      <td>Male</td>\n",
       "      <td>Yes</td>\n",
       "      <td>Sun</td>\n",
       "      <td>Lunch</td>\n",
       "    </tr>\n",
       "    <tr>\n",
       "      <th>...</th>\n",
       "      <td>...</td>\n",
       "      <td>...</td>\n",
       "      <td>...</td>\n",
       "      <td>...</td>\n",
       "    </tr>\n",
       "    <tr>\n",
       "      <th>739</th>\n",
       "      <td>Male</td>\n",
       "      <td>No</td>\n",
       "      <td>Sat</td>\n",
       "      <td>Dinner</td>\n",
       "    </tr>\n",
       "    <tr>\n",
       "      <th>740</th>\n",
       "      <td>Female</td>\n",
       "      <td>Yes</td>\n",
       "      <td>Sat</td>\n",
       "      <td>Dinner</td>\n",
       "    </tr>\n",
       "    <tr>\n",
       "      <th>741</th>\n",
       "      <td>Male</td>\n",
       "      <td>Yes</td>\n",
       "      <td>Sat</td>\n",
       "      <td>Dinner</td>\n",
       "    </tr>\n",
       "    <tr>\n",
       "      <th>742</th>\n",
       "      <td>Male</td>\n",
       "      <td>No</td>\n",
       "      <td>Sat</td>\n",
       "      <td>Dinner</td>\n",
       "    </tr>\n",
       "    <tr>\n",
       "      <th>743</th>\n",
       "      <td>Female</td>\n",
       "      <td>No</td>\n",
       "      <td>Thur</td>\n",
       "      <td>Dinner</td>\n",
       "    </tr>\n",
       "  </tbody>\n",
       "</table>\n",
       "<p>744 rows × 4 columns</p>\n",
       "</div>"
      ],
      "text/plain": [
       "     gender smoker   day    time\n",
       "0      Male     No  Thur   Lunch\n",
       "1    Female     No   Sun  Dinner\n",
       "2    Female    Yes  Thur  Dinner\n",
       "3    Female     No   Sun  Dinner\n",
       "4      Male    Yes   Sun   Lunch\n",
       "..      ...    ...   ...     ...\n",
       "739    Male     No   Sat  Dinner\n",
       "740  Female    Yes   Sat  Dinner\n",
       "741    Male    Yes   Sat  Dinner\n",
       "742    Male     No   Sat  Dinner\n",
       "743  Female     No  Thur  Dinner\n",
       "\n",
       "[744 rows x 4 columns]"
      ]
     },
     "execution_count": 42,
     "metadata": {},
     "output_type": "execute_result"
    }
   ],
   "source": [
    "objects=data.select_dtypes('object')\n",
    "objects"
   ]
  },
  {
   "cell_type": "code",
   "execution_count": null,
   "id": "0e344c60",
   "metadata": {},
   "outputs": [],
   "source": []
  }
 ],
 "metadata": {
  "kernelspec": {
   "display_name": "Python 3 (ipykernel)",
   "language": "python",
   "name": "python3"
  },
  "language_info": {
   "codemirror_mode": {
    "name": "ipython",
    "version": 3
   },
   "file_extension": ".py",
   "mimetype": "text/x-python",
   "name": "python",
   "nbconvert_exporter": "python",
   "pygments_lexer": "ipython3",
   "version": "3.11.3"
  }
 },
 "nbformat": 4,
 "nbformat_minor": 5
}
